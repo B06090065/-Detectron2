{
  "nbformat": 4,
  "nbformat_minor": 0,
  "metadata": {
    "colab": {
      "name": "detectron2_video.ipynb",
      "provenance": [],
      "collapsed_sections": []
    },
    "kernelspec": {
      "name": "python3",
      "display_name": "Python 3"
    },
    "accelerator": "GPU"
  },
  "cells": [
    {
      "cell_type": "code",
      "metadata": {
        "id": "vukkNuCdJTsy",
        "outputId": "1000e2b7-8f9f-47c1-9523-8507864cd3ed",
        "colab": {
          "base_uri": "https://localhost:8080/"
        }
      },
      "source": [
        "# install dependencies: \n",
        "!pip install pyyaml==5.1 pycocotools>=2.0.1\n",
        "import torch, torchvision\n",
        "print(torch.__version__, torch.cuda.is_available())\n",
        "!gcc --version\n",
        "# opencv is pre-installed on colab"
      ],
      "execution_count": 1,
      "outputs": [
        {
          "output_type": "stream",
          "text": [
            "1.6.0+cu101 True\n",
            "gcc (Ubuntu 7.5.0-3ubuntu1~18.04) 7.5.0\n",
            "Copyright (C) 2017 Free Software Foundation, Inc.\n",
            "This is free software; see the source for copying conditions.  There is NO\n",
            "warranty; not even for MERCHANTABILITY or FITNESS FOR A PARTICULAR PURPOSE.\n",
            "\n"
          ],
          "name": "stdout"
        }
      ]
    },
    {
      "cell_type": "code",
      "metadata": {
        "id": "WHUz6YajJdzT",
        "outputId": "0b3bf73e-64af-4488-c38f-4482f487b6e9",
        "colab": {
          "base_uri": "https://localhost:8080/",
          "height": 1000
        }
      },
      "source": [
        "# install detectron2: (Colab has CUDA 10.1 + torch 1.6)\n",
        "# See https://detectron2.readthedocs.io/tutorials/install.html for instructions\n",
        "assert torch.__version__.startswith(\"1.6\")\n",
        "!pip install detectron2 -f https://dl.fbaipublicfiles.com/detectron2/wheels/cu101/torch1.6/index.html"
      ],
      "execution_count": 2,
      "outputs": [
        {
          "output_type": "stream",
          "text": [
            "Looking in links: https://dl.fbaipublicfiles.com/detectron2/wheels/cu101/torch1.6/index.html\n",
            "Collecting detectron2\n",
            "\u001b[?25l  Downloading https://dl.fbaipublicfiles.com/detectron2/wheels/cu101/torch1.6/detectron2-0.2.1%2Bcu101-cp36-cp36m-linux_x86_64.whl (6.6MB)\n",
            "\u001b[K     |████████████████████████████████| 6.6MB 639kB/s \n",
            "\u001b[?25hRequirement already satisfied: matplotlib in /usr/local/lib/python3.6/dist-packages (from detectron2) (3.2.2)\n",
            "Collecting Pillow>=7.1\n",
            "\u001b[?25l  Downloading https://files.pythonhosted.org/packages/5f/19/d4c25111d36163698396f93c363114cf1cddbacb24744f6612f25b6aa3d0/Pillow-8.0.1-cp36-cp36m-manylinux1_x86_64.whl (2.2MB)\n",
            "\u001b[K     |████████████████████████████████| 2.2MB 10.0MB/s \n",
            "\u001b[?25hRequirement already satisfied: termcolor>=1.1 in /usr/local/lib/python3.6/dist-packages (from detectron2) (1.1.0)\n",
            "Collecting fvcore>=0.1.1\n",
            "  Downloading https://files.pythonhosted.org/packages/24/d1/38d083a722cc4ddce72dc77057cab2740b893c94f8698981fd7eecdd3721/fvcore-0.1.2.post20201030.tar.gz\n",
            "Requirement already satisfied: future in /usr/local/lib/python3.6/dist-packages (from detectron2) (0.16.0)\n",
            "Requirement already satisfied: tabulate in /usr/local/lib/python3.6/dist-packages (from detectron2) (0.8.7)\n",
            "Collecting mock\n",
            "  Downloading https://files.pythonhosted.org/packages/cd/74/d72daf8dff5b6566db857cfd088907bb0355f5dd2914c4b3ef065c790735/mock-4.0.2-py3-none-any.whl\n",
            "Requirement already satisfied: cloudpickle in /usr/local/lib/python3.6/dist-packages (from detectron2) (1.3.0)\n",
            "Requirement already satisfied: tensorboard in /usr/local/lib/python3.6/dist-packages (from detectron2) (2.3.0)\n",
            "Requirement already satisfied: tqdm>4.29.0 in /usr/local/lib/python3.6/dist-packages (from detectron2) (4.41.1)\n",
            "Requirement already satisfied: pydot in /usr/local/lib/python3.6/dist-packages (from detectron2) (1.3.0)\n",
            "Collecting yacs>=0.1.6\n",
            "  Downloading https://files.pythonhosted.org/packages/38/4f/fe9a4d472aa867878ce3bb7efb16654c5d63672b86dc0e6e953a67018433/yacs-0.1.8-py3-none-any.whl\n",
            "Requirement already satisfied: pycocotools>=2.0.1 in /usr/local/lib/python3.6/dist-packages (from detectron2) (2.0.2)\n",
            "Requirement already satisfied: numpy>=1.11 in /usr/local/lib/python3.6/dist-packages (from matplotlib->detectron2) (1.18.5)\n",
            "Requirement already satisfied: kiwisolver>=1.0.1 in /usr/local/lib/python3.6/dist-packages (from matplotlib->detectron2) (1.2.0)\n",
            "Requirement already satisfied: cycler>=0.10 in /usr/local/lib/python3.6/dist-packages (from matplotlib->detectron2) (0.10.0)\n",
            "Requirement already satisfied: python-dateutil>=2.1 in /usr/local/lib/python3.6/dist-packages (from matplotlib->detectron2) (2.8.1)\n",
            "Requirement already satisfied: pyparsing!=2.0.4,!=2.1.2,!=2.1.6,>=2.0.1 in /usr/local/lib/python3.6/dist-packages (from matplotlib->detectron2) (2.4.7)\n",
            "Requirement already satisfied: pyyaml>=5.1 in /usr/local/lib/python3.6/dist-packages (from fvcore>=0.1.1->detectron2) (5.1)\n",
            "Collecting portalocker\n",
            "  Downloading https://files.pythonhosted.org/packages/89/a6/3814b7107e0788040870e8825eebf214d72166adf656ba7d4bf14759a06a/portalocker-2.0.0-py2.py3-none-any.whl\n",
            "Requirement already satisfied: absl-py>=0.4 in /usr/local/lib/python3.6/dist-packages (from tensorboard->detectron2) (0.10.0)\n",
            "Requirement already satisfied: setuptools>=41.0.0 in /usr/local/lib/python3.6/dist-packages (from tensorboard->detectron2) (50.3.2)\n",
            "Requirement already satisfied: google-auth<2,>=1.6.3 in /usr/local/lib/python3.6/dist-packages (from tensorboard->detectron2) (1.17.2)\n",
            "Requirement already satisfied: requests<3,>=2.21.0 in /usr/local/lib/python3.6/dist-packages (from tensorboard->detectron2) (2.23.0)\n",
            "Requirement already satisfied: werkzeug>=0.11.15 in /usr/local/lib/python3.6/dist-packages (from tensorboard->detectron2) (1.0.1)\n",
            "Requirement already satisfied: six>=1.10.0 in /usr/local/lib/python3.6/dist-packages (from tensorboard->detectron2) (1.15.0)\n",
            "Requirement already satisfied: markdown>=2.6.8 in /usr/local/lib/python3.6/dist-packages (from tensorboard->detectron2) (3.3.2)\n",
            "Requirement already satisfied: tensorboard-plugin-wit>=1.6.0 in /usr/local/lib/python3.6/dist-packages (from tensorboard->detectron2) (1.7.0)\n",
            "Requirement already satisfied: grpcio>=1.24.3 in /usr/local/lib/python3.6/dist-packages (from tensorboard->detectron2) (1.33.1)\n",
            "Requirement already satisfied: google-auth-oauthlib<0.5,>=0.4.1 in /usr/local/lib/python3.6/dist-packages (from tensorboard->detectron2) (0.4.1)\n",
            "Requirement already satisfied: protobuf>=3.6.0 in /usr/local/lib/python3.6/dist-packages (from tensorboard->detectron2) (3.12.4)\n",
            "Requirement already satisfied: wheel>=0.26; python_version >= \"3\" in /usr/local/lib/python3.6/dist-packages (from tensorboard->detectron2) (0.35.1)\n",
            "Requirement already satisfied: cython>=0.27.3 in /usr/local/lib/python3.6/dist-packages (from pycocotools>=2.0.1->detectron2) (0.29.21)\n",
            "Requirement already satisfied: rsa<5,>=3.1.4; python_version >= \"3\" in /usr/local/lib/python3.6/dist-packages (from google-auth<2,>=1.6.3->tensorboard->detectron2) (4.6)\n",
            "Requirement already satisfied: cachetools<5.0,>=2.0.0 in /usr/local/lib/python3.6/dist-packages (from google-auth<2,>=1.6.3->tensorboard->detectron2) (4.1.1)\n",
            "Requirement already satisfied: pyasn1-modules>=0.2.1 in /usr/local/lib/python3.6/dist-packages (from google-auth<2,>=1.6.3->tensorboard->detectron2) (0.2.8)\n",
            "Requirement already satisfied: urllib3!=1.25.0,!=1.25.1,<1.26,>=1.21.1 in /usr/local/lib/python3.6/dist-packages (from requests<3,>=2.21.0->tensorboard->detectron2) (1.24.3)\n",
            "Requirement already satisfied: chardet<4,>=3.0.2 in /usr/local/lib/python3.6/dist-packages (from requests<3,>=2.21.0->tensorboard->detectron2) (3.0.4)\n",
            "Requirement already satisfied: idna<3,>=2.5 in /usr/local/lib/python3.6/dist-packages (from requests<3,>=2.21.0->tensorboard->detectron2) (2.10)\n",
            "Requirement already satisfied: certifi>=2017.4.17 in /usr/local/lib/python3.6/dist-packages (from requests<3,>=2.21.0->tensorboard->detectron2) (2020.6.20)\n",
            "Requirement already satisfied: importlib-metadata; python_version < \"3.8\" in /usr/local/lib/python3.6/dist-packages (from markdown>=2.6.8->tensorboard->detectron2) (2.0.0)\n",
            "Requirement already satisfied: requests-oauthlib>=0.7.0 in /usr/local/lib/python3.6/dist-packages (from google-auth-oauthlib<0.5,>=0.4.1->tensorboard->detectron2) (1.3.0)\n",
            "Requirement already satisfied: pyasn1>=0.1.3 in /usr/local/lib/python3.6/dist-packages (from rsa<5,>=3.1.4; python_version >= \"3\"->google-auth<2,>=1.6.3->tensorboard->detectron2) (0.4.8)\n",
            "Requirement already satisfied: zipp>=0.5 in /usr/local/lib/python3.6/dist-packages (from importlib-metadata; python_version < \"3.8\"->markdown>=2.6.8->tensorboard->detectron2) (3.3.1)\n",
            "Requirement already satisfied: oauthlib>=3.0.0 in /usr/local/lib/python3.6/dist-packages (from requests-oauthlib>=0.7.0->google-auth-oauthlib<0.5,>=0.4.1->tensorboard->detectron2) (3.1.0)\n",
            "Building wheels for collected packages: fvcore\n",
            "  Building wheel for fvcore (setup.py) ... \u001b[?25l\u001b[?25hdone\n",
            "  Created wheel for fvcore: filename=fvcore-0.1.2.post20201030-cp36-none-any.whl size=44294 sha256=1297ca69333959aa2158180e94dc5c773363bd584a16e6262f46f297b5873720\n",
            "  Stored in directory: /root/.cache/pip/wheels/7f/7a/c8/521a7c1d1974bf1c536fed7cb258e3be173730d71065407bab\n",
            "Successfully built fvcore\n",
            "\u001b[31mERROR: albumentations 0.1.12 has requirement imgaug<0.2.7,>=0.2.5, but you'll have imgaug 0.2.9 which is incompatible.\u001b[0m\n",
            "Installing collected packages: Pillow, yacs, portalocker, fvcore, mock, detectron2\n",
            "  Found existing installation: Pillow 7.0.0\n",
            "    Uninstalling Pillow-7.0.0:\n",
            "      Successfully uninstalled Pillow-7.0.0\n",
            "Successfully installed Pillow-8.0.1 detectron2-0.2.1+cu101 fvcore-0.1.2.post20201030 mock-4.0.2 portalocker-2.0.0 yacs-0.1.8\n"
          ],
          "name": "stdout"
        },
        {
          "output_type": "display_data",
          "data": {
            "application/vnd.colab-display-data+json": {
              "pip_warning": {
                "packages": [
                  "PIL"
                ]
              }
            }
          },
          "metadata": {
            "tags": []
          }
        }
      ]
    },
    {
      "cell_type": "code",
      "metadata": {
        "id": "J82CcRkbJ8wT",
        "outputId": "519ac5ea-9a41-478c-daf0-2f9ffe1c4ea3",
        "colab": {
          "base_uri": "https://localhost:8080/",
          "height": 321
        }
      },
      "source": [
        "# This is the video we're going to process\n",
        "from IPython.display import YouTubeVideo, display\n",
        "video = YouTubeVideo(\"zZTff1NsLuw\", width=500)\n",
        "display(video)"
      ],
      "execution_count": 1,
      "outputs": [
        {
          "output_type": "display_data",
          "data": {
            "text/html": [
              "\n",
              "        <iframe\n",
              "            width=\"500\"\n",
              "            height=\"300\"\n",
              "            src=\"https://www.youtube.com/embed/zZTff1NsLuw\"\n",
              "            frameborder=\"0\"\n",
              "            allowfullscreen\n",
              "        ></iframe>\n",
              "        "
            ],
            "text/plain": [
              "<IPython.lib.display.YouTubeVideo at 0x7f56c8ec7b38>"
            ],
            "image/jpeg": "[encoded data removed]"
          },
          "metadata": {
            "tags": []
          }
        }
      ]
    },
    {
      "cell_type": "code",
      "metadata": {
        "id": "HFm2IFPrKAnV",
        "outputId": "83e399b7-7073-478c-c60f-89311c8afef2",
        "colab": {
          "base_uri": "https://localhost:8080/"
        }
      },
      "source": [
        "# Install dependencies, download the video, and crop 5 seconds for processing\n",
        "!pip install youtube-dl\n",
        "!pip uninstall -y opencv-python-headless opencv-contrib-python\n",
        "!apt install python3-opencv  # the one pre-installed have some issues\n",
        "!youtube-dl https://www.youtube.com/watch?v=zZTff1NsLuw -f 22 -o video.mp4\n",
        "!ffmpeg -i video.mp4 -t 00:00:06 -c:v copy video-clip.mp4"
      ],
      "execution_count": 2,
      "outputs": [
        {
          "output_type": "stream",
          "text": [
            "Collecting youtube-dl\n",
            "\u001b[?25l  Downloading https://files.pythonhosted.org/packages/89/5e/78523cb106c93370941b5fdd7e6dab58d66d762a1d7fd914eeff8ba2fb03/youtube_dl-2020.11.1.1-py2.py3-none-any.whl (1.8MB)\n",
            "\r\u001b[K     |▏                               | 10kB 19.7MB/s eta 0:00:01\r\u001b[K     |▍                               | 20kB 23.8MB/s eta 0:00:01\r\u001b[K     |▌                               | 30kB 14.1MB/s eta 0:00:01\r\u001b[K     |▊                               | 40kB 10.2MB/s eta 0:00:01\r\u001b[K     |█                               | 51kB 9.9MB/s eta 0:00:01\r\u001b[K     |█                               | 61kB 9.6MB/s eta 0:00:01\r\u001b[K     |█▎                              | 71kB 9.9MB/s eta 0:00:01\r\u001b[K     |█▍                              | 81kB 8.9MB/s eta 0:00:01\r\u001b[K     |█▋                              | 92kB 9.4MB/s eta 0:00:01\r\u001b[K     |█▉                              | 102kB 9.2MB/s eta 0:00:01\r\u001b[K     |██                              | 112kB 9.2MB/s eta 0:00:01\r\u001b[K     |██▏                             | 122kB 9.2MB/s eta 0:00:01\r\u001b[K     |██▎                             | 133kB 9.2MB/s eta 0:00:01\r\u001b[K     |██▌                             | 143kB 9.2MB/s eta 0:00:01\r\u001b[K     |██▊                             | 153kB 9.2MB/s eta 0:00:01\r\u001b[K     |██▉                             | 163kB 9.2MB/s eta 0:00:01\r\u001b[K     |███                             | 174kB 9.2MB/s eta 0:00:01\r\u001b[K     |███▎                            | 184kB 9.2MB/s eta 0:00:01\r\u001b[K     |███▍                            | 194kB 9.2MB/s eta 0:00:01\r\u001b[K     |███▋                            | 204kB 9.2MB/s eta 0:00:01\r\u001b[K     |███▊                            | 215kB 9.2MB/s eta 0:00:01\r\u001b[K     |████                            | 225kB 9.2MB/s eta 0:00:01\r\u001b[K     |████▏                           | 235kB 9.2MB/s eta 0:00:01\r\u001b[K     |████▎                           | 245kB 9.2MB/s eta 0:00:01\r\u001b[K     |████▌                           | 256kB 9.2MB/s eta 0:00:01\r\u001b[K     |████▋                           | 266kB 9.2MB/s eta 0:00:01\r\u001b[K     |████▉                           | 276kB 9.2MB/s eta 0:00:01\r\u001b[K     |█████                           | 286kB 9.2MB/s eta 0:00:01\r\u001b[K     |█████▏                          | 296kB 9.2MB/s eta 0:00:01\r\u001b[K     |█████▍                          | 307kB 9.2MB/s eta 0:00:01\r\u001b[K     |█████▋                          | 317kB 9.2MB/s eta 0:00:01\r\u001b[K     |█████▊                          | 327kB 9.2MB/s eta 0:00:01\r\u001b[K     |██████                          | 337kB 9.2MB/s eta 0:00:01\r\u001b[K     |██████                          | 348kB 9.2MB/s eta 0:00:01\r\u001b[K     |██████▎                         | 358kB 9.2MB/s eta 0:00:01\r\u001b[K     |██████▌                         | 368kB 9.2MB/s eta 0:00:01\r\u001b[K     |██████▋                         | 378kB 9.2MB/s eta 0:00:01\r\u001b[K     |██████▉                         | 389kB 9.2MB/s eta 0:00:01\r\u001b[K     |███████                         | 399kB 9.2MB/s eta 0:00:01\r\u001b[K     |███████▏                        | 409kB 9.2MB/s eta 0:00:01\r\u001b[K     |███████▍                        | 419kB 9.2MB/s eta 0:00:01\r\u001b[K     |███████▌                        | 430kB 9.2MB/s eta 0:00:01\r\u001b[K     |███████▊                        | 440kB 9.2MB/s eta 0:00:01\r\u001b[K     |████████                        | 450kB 9.2MB/s eta 0:00:01\r\u001b[K     |████████                        | 460kB 9.2MB/s eta 0:00:01\r\u001b[K     |████████▎                       | 471kB 9.2MB/s eta 0:00:01\r\u001b[K     |████████▍                       | 481kB 9.2MB/s eta 0:00:01\r\u001b[K     |████████▋                       | 491kB 9.2MB/s eta 0:00:01\r\u001b[K     |████████▉                       | 501kB 9.2MB/s eta 0:00:01\r\u001b[K     |█████████                       | 512kB 9.2MB/s eta 0:00:01\r\u001b[K     |█████████▏                      | 522kB 9.2MB/s eta 0:00:01\r\u001b[K     |█████████▎                      | 532kB 9.2MB/s eta 0:00:01\r\u001b[K     |█████████▌                      | 542kB 9.2MB/s eta 0:00:01\r\u001b[K     |█████████▊                      | 552kB 9.2MB/s eta 0:00:01\r\u001b[K     |█████████▉                      | 563kB 9.2MB/s eta 0:00:01\r\u001b[K     |██████████                      | 573kB 9.2MB/s eta 0:00:01\r\u001b[K     |██████████▎                     | 583kB 9.2MB/s eta 0:00:01\r\u001b[K     |██████████▍                     | 593kB 9.2MB/s eta 0:00:01\r\u001b[K     |██████████▋                     | 604kB 9.2MB/s eta 0:00:01\r\u001b[K     |██████████▊                     | 614kB 9.2MB/s eta 0:00:01\r\u001b[K     |███████████                     | 624kB 9.2MB/s eta 0:00:01\r\u001b[K     |███████████▏                    | 634kB 9.2MB/s eta 0:00:01\r\u001b[K     |███████████▎                    | 645kB 9.2MB/s eta 0:00:01\r\u001b[K     |███████████▌                    | 655kB 9.2MB/s eta 0:00:01\r\u001b[K     |███████████▋                    | 665kB 9.2MB/s eta 0:00:01\r\u001b[K     |███████████▉                    | 675kB 9.2MB/s eta 0:00:01\r\u001b[K     |████████████                    | 686kB 9.2MB/s eta 0:00:01\r\u001b[K     |████████████▏                   | 696kB 9.2MB/s eta 0:00:01\r\u001b[K     |████████████▍                   | 706kB 9.2MB/s eta 0:00:01\r\u001b[K     |████████████▋                   | 716kB 9.2MB/s eta 0:00:01\r\u001b[K     |████████████▊                   | 727kB 9.2MB/s eta 0:00:01\r\u001b[K     |█████████████                   | 737kB 9.2MB/s eta 0:00:01\r\u001b[K     |█████████████                   | 747kB 9.2MB/s eta 0:00:01\r\u001b[K     |█████████████▎                  | 757kB 9.2MB/s eta 0:00:01\r\u001b[K     |█████████████▌                  | 768kB 9.2MB/s eta 0:00:01\r\u001b[K     |█████████████▋                  | 778kB 9.2MB/s eta 0:00:01\r\u001b[K     |█████████████▉                  | 788kB 9.2MB/s eta 0:00:01\r\u001b[K     |██████████████                  | 798kB 9.2MB/s eta 0:00:01\r\u001b[K     |██████████████▏                 | 808kB 9.2MB/s eta 0:00:01\r\u001b[K     |██████████████▍                 | 819kB 9.2MB/s eta 0:00:01\r\u001b[K     |██████████████▌                 | 829kB 9.2MB/s eta 0:00:01\r\u001b[K     |██████████████▊                 | 839kB 9.2MB/s eta 0:00:01\r\u001b[K     |███████████████                 | 849kB 9.2MB/s eta 0:00:01\r\u001b[K     |███████████████                 | 860kB 9.2MB/s eta 0:00:01\r\u001b[K     |███████████████▎                | 870kB 9.2MB/s eta 0:00:01\r\u001b[K     |███████████████▍                | 880kB 9.2MB/s eta 0:00:01\r\u001b[K     |███████████████▋                | 890kB 9.2MB/s eta 0:00:01\r\u001b[K     |███████████████▉                | 901kB 9.2MB/s eta 0:00:01\r\u001b[K     |████████████████                | 911kB 9.2MB/s eta 0:00:01\r\u001b[K     |████████████████▏               | 921kB 9.2MB/s eta 0:00:01\r\u001b[K     |████████████████▎               | 931kB 9.2MB/s eta 0:00:01\r\u001b[K     |████████████████▌               | 942kB 9.2MB/s eta 0:00:01\r\u001b[K     |████████████████▊               | 952kB 9.2MB/s eta 0:00:01\r\u001b[K     |████████████████▉               | 962kB 9.2MB/s eta 0:00:01\r\u001b[K     |█████████████████               | 972kB 9.2MB/s eta 0:00:01\r\u001b[K     |█████████████████▎              | 983kB 9.2MB/s eta 0:00:01\r\u001b[K     |█████████████████▍              | 993kB 9.2MB/s eta 0:00:01\r\u001b[K     |█████████████████▋              | 1.0MB 9.2MB/s eta 0:00:01\r\u001b[K     |█████████████████▊              | 1.0MB 9.2MB/s eta 0:00:01\r\u001b[K     |██████████████████              | 1.0MB 9.2MB/s eta 0:00:01\r\u001b[K     |██████████████████▏             | 1.0MB 9.2MB/s eta 0:00:01\r\u001b[K     |██████████████████▎             | 1.0MB 9.2MB/s eta 0:00:01\r\u001b[K     |██████████████████▌             | 1.1MB 9.2MB/s eta 0:00:01\r\u001b[K     |██████████████████▋             | 1.1MB 9.2MB/s eta 0:00:01\r\u001b[K     |██████████████████▉             | 1.1MB 9.2MB/s eta 0:00:01\r\u001b[K     |███████████████████             | 1.1MB 9.2MB/s eta 0:00:01\r\u001b[K     |███████████████████▏            | 1.1MB 9.2MB/s eta 0:00:01\r\u001b[K     |███████████████████▍            | 1.1MB 9.2MB/s eta 0:00:01\r\u001b[K     |███████████████████▋            | 1.1MB 9.2MB/s eta 0:00:01\r\u001b[K     |███████████████████▊            | 1.1MB 9.2MB/s eta 0:00:01\r\u001b[K     |████████████████████            | 1.1MB 9.2MB/s eta 0:00:01\r\u001b[K     |████████████████████            | 1.1MB 9.2MB/s eta 0:00:01\r\u001b[K     |████████████████████▎           | 1.2MB 9.2MB/s eta 0:00:01\r\u001b[K     |████████████████████▌           | 1.2MB 9.2MB/s eta 0:00:01\r\u001b[K     |████████████████████▋           | 1.2MB 9.2MB/s eta 0:00:01\r\u001b[K     |████████████████████▉           | 1.2MB 9.2MB/s eta 0:00:01\r\u001b[K     |█████████████████████           | 1.2MB 9.2MB/s eta 0:00:01\r\u001b[K     |█████████████████████▏          | 1.2MB 9.2MB/s eta 0:00:01\r\u001b[K     |█████████████████████▍          | 1.2MB 9.2MB/s eta 0:00:01\r\u001b[K     |█████████████████████▌          | 1.2MB 9.2MB/s eta 0:00:01\r\u001b[K     |█████████████████████▊          | 1.2MB 9.2MB/s eta 0:00:01\r\u001b[K     |██████████████████████          | 1.2MB 9.2MB/s eta 0:00:01\r\u001b[K     |██████████████████████          | 1.3MB 9.2MB/s eta 0:00:01\r\u001b[K     |██████████████████████▎         | 1.3MB 9.2MB/s eta 0:00:01\r\u001b[K     |██████████████████████▍         | 1.3MB 9.2MB/s eta 0:00:01\r\u001b[K     |██████████████████████▋         | 1.3MB 9.2MB/s eta 0:00:01\r\u001b[K     |██████████████████████▉         | 1.3MB 9.2MB/s eta 0:00:01\r\u001b[K     |███████████████████████         | 1.3MB 9.2MB/s eta 0:00:01\r\u001b[K     |███████████████████████▏        | 1.3MB 9.2MB/s eta 0:00:01\r\u001b[K     |███████████████████████▎        | 1.3MB 9.2MB/s eta 0:00:01\r\u001b[K     |███████████████████████▌        | 1.3MB 9.2MB/s eta 0:00:01\r\u001b[K     |███████████████████████▊        | 1.4MB 9.2MB/s eta 0:00:01\r\u001b[K     |███████████████████████▉        | 1.4MB 9.2MB/s eta 0:00:01\r\u001b[K     |████████████████████████        | 1.4MB 9.2MB/s eta 0:00:01\r\u001b[K     |████████████████████████▎       | 1.4MB 9.2MB/s eta 0:00:01\r\u001b[K     |████████████████████████▍       | 1.4MB 9.2MB/s eta 0:00:01\r\u001b[K     |████████████████████████▋       | 1.4MB 9.2MB/s eta 0:00:01\r\u001b[K     |████████████████████████▊       | 1.4MB 9.2MB/s eta 0:00:01\r\u001b[K     |█████████████████████████       | 1.4MB 9.2MB/s eta 0:00:01\r\u001b[K     |█████████████████████████▏      | 1.4MB 9.2MB/s eta 0:00:01\r\u001b[K     |█████████████████████████▎      | 1.4MB 9.2MB/s eta 0:00:01\r\u001b[K     |█████████████████████████▌      | 1.5MB 9.2MB/s eta 0:00:01\r\u001b[K     |█████████████████████████▋      | 1.5MB 9.2MB/s eta 0:00:01\r\u001b[K     |█████████████████████████▉      | 1.5MB 9.2MB/s eta 0:00:01\r\u001b[K     |██████████████████████████      | 1.5MB 9.2MB/s eta 0:00:01\r\u001b[K     |██████████████████████████▏     | 1.5MB 9.2MB/s eta 0:00:01\r\u001b[K     |██████████████████████████▍     | 1.5MB 9.2MB/s eta 0:00:01\r\u001b[K     |██████████████████████████▋     | 1.5MB 9.2MB/s eta 0:00:01\r\u001b[K     |██████████████████████████▊     | 1.5MB 9.2MB/s eta 0:00:01\r\u001b[K     |███████████████████████████     | 1.5MB 9.2MB/s eta 0:00:01\r\u001b[K     |███████████████████████████     | 1.5MB 9.2MB/s eta 0:00:01\r\u001b[K     |███████████████████████████▎    | 1.6MB 9.2MB/s eta 0:00:01\r\u001b[K     |███████████████████████████▌    | 1.6MB 9.2MB/s eta 0:00:01\r\u001b[K     |███████████████████████████▋    | 1.6MB 9.2MB/s eta 0:00:01\r\u001b[K     |███████████████████████████▉    | 1.6MB 9.2MB/s eta 0:00:01\r\u001b[K     |████████████████████████████    | 1.6MB 9.2MB/s eta 0:00:01\r\u001b[K     |████████████████████████████▏   | 1.6MB 9.2MB/s eta 0:00:01\r\u001b[K     |████████████████████████████▍   | 1.6MB 9.2MB/s eta 0:00:01\r\u001b[K     |████████████████████████████▌   | 1.6MB 9.2MB/s eta 0:00:01\r\u001b[K     |████████████████████████████▊   | 1.6MB 9.2MB/s eta 0:00:01\r\u001b[K     |████████████████████████████▉   | 1.6MB 9.2MB/s eta 0:00:01\r\u001b[K     |█████████████████████████████   | 1.7MB 9.2MB/s eta 0:00:01\r\u001b[K     |█████████████████████████████▎  | 1.7MB 9.2MB/s eta 0:00:01\r\u001b[K     |█████████████████████████████▍  | 1.7MB 9.2MB/s eta 0:00:01\r\u001b[K     |█████████████████████████████▋  | 1.7MB 9.2MB/s eta 0:00:01\r\u001b[K     |█████████████████████████████▉  | 1.7MB 9.2MB/s eta 0:00:01\r\u001b[K     |██████████████████████████████  | 1.7MB 9.2MB/s eta 0:00:01\r\u001b[K     |██████████████████████████████▏ | 1.7MB 9.2MB/s eta 0:00:01\r\u001b[K     |██████████████████████████████▎ | 1.7MB 9.2MB/s eta 0:00:01\r\u001b[K     |██████████████████████████████▌ | 1.7MB 9.2MB/s eta 0:00:01\r\u001b[K     |██████████████████████████████▊ | 1.8MB 9.2MB/s eta 0:00:01\r\u001b[K     |██████████████████████████████▉ | 1.8MB 9.2MB/s eta 0:00:01\r\u001b[K     |███████████████████████████████ | 1.8MB 9.2MB/s eta 0:00:01\r\u001b[K     |███████████████████████████████▏| 1.8MB 9.2MB/s eta 0:00:01\r\u001b[K     |███████████████████████████████▍| 1.8MB 9.2MB/s eta 0:00:01\r\u001b[K     |███████████████████████████████▋| 1.8MB 9.2MB/s eta 0:00:01\r\u001b[K     |███████████████████████████████▊| 1.8MB 9.2MB/s eta 0:00:01\r\u001b[K     |████████████████████████████████| 1.8MB 9.2MB/s eta 0:00:01\r\u001b[K     |████████████████████████████████| 1.8MB 9.2MB/s \n",
            "\u001b[?25hInstalling collected packages: youtube-dl\n",
            "Successfully installed youtube-dl-2020.11.1.1\n",
            "\u001b[33mWARNING: Skipping opencv-python-headless as it is not installed.\u001b[0m\n",
            "Uninstalling opencv-contrib-python-4.1.2.30:\n",
            "  Successfully uninstalled opencv-contrib-python-4.1.2.30\n",
            "Reading package lists... Done\n",
            "Building dependency tree       \n",
            "Reading state information... Done\n",
            "The following NEW packages will be installed:\n",
            "  python3-opencv\n",
            "0 upgraded, 1 newly installed, 0 to remove and 11 not upgraded.\n",
            "Need to get 534 kB of archives.\n",
            "After this operation, 2,941 kB of additional disk space will be used.\n",
            "Get:1 http://archive.ubuntu.com/ubuntu bionic-updates/universe amd64 python3-opencv amd64 3.2.0+dfsg-4ubuntu0.1 [534 kB]\n",
            "Fetched 534 kB in 1s (803 kB/s)\n",
            "Selecting previously unselected package python3-opencv.\n",
            "(Reading database ... 144628 files and directories currently installed.)\n",
            "Preparing to unpack .../python3-opencv_3.2.0+dfsg-4ubuntu0.1_amd64.deb ...\n",
            "Unpacking python3-opencv (3.2.0+dfsg-4ubuntu0.1) ...\n",
            "Setting up python3-opencv (3.2.0+dfsg-4ubuntu0.1) ...\n",
            "[youtube] zZTff1NsLuw: Downloading webpage\n",
            "[download] Destination: video.mp4\n",
            "\u001b[K[download] 100% of 8.73MiB in 00:00\n",
            "ffmpeg version 3.4.8-0ubuntu0.2 Copyright (c) 2000-2020 the FFmpeg developers\n",
            "  built with gcc 7 (Ubuntu 7.5.0-3ubuntu1~18.04)\n",
            "  configuration: --prefix=/usr --extra-version=0ubuntu0.2 --toolchain=hardened --libdir=/usr/lib/x86_64-linux-gnu --incdir=/usr/include/x86_64-linux-gnu --enable-gpl --disable-stripping --enable-avresample --enable-avisynth --enable-gnutls --enable-ladspa --enable-libass --enable-libbluray --enable-libbs2b --enable-libcaca --enable-libcdio --enable-libflite --enable-libfontconfig --enable-libfreetype --enable-libfribidi --enable-libgme --enable-libgsm --enable-libmp3lame --enable-libmysofa --enable-libopenjpeg --enable-libopenmpt --enable-libopus --enable-libpulse --enable-librubberband --enable-librsvg --enable-libshine --enable-libsnappy --enable-libsoxr --enable-libspeex --enable-libssh --enable-libtheora --enable-libtwolame --enable-libvorbis --enable-libvpx --enable-libwavpack --enable-libwebp --enable-libx265 --enable-libxml2 --enable-libxvid --enable-libzmq --enable-libzvbi --enable-omx --enable-openal --enable-opengl --enable-sdl2 --enable-libdc1394 --enable-libdrm --enable-libiec61883 --enable-chromaprint --enable-frei0r --enable-libopencv --enable-libx264 --enable-shared\n",
            "  libavutil      55. 78.100 / 55. 78.100\n",
            "  libavcodec     57.107.100 / 57.107.100\n",
            "  libavformat    57. 83.100 / 57. 83.100\n",
            "  libavdevice    57. 10.100 / 57. 10.100\n",
            "  libavfilter     6.107.100 /  6.107.100\n",
            "  libavresample   3.  7.  0 /  3.  7.  0\n",
            "  libswscale      4.  8.100 /  4.  8.100\n",
            "  libswresample   2.  9.100 /  2.  9.100\n",
            "  libpostproc    54.  7.100 / 54.  7.100\n",
            "Input #0, mov,mp4,m4a,3gp,3g2,mj2, from 'video.mp4':\n",
            "  Metadata:\n",
            "    major_brand     : mp42\n",
            "    minor_version   : 0\n",
            "    compatible_brands: isommp42\n",
            "    creation_time   : 2020-11-01T13:59:40.000000Z\n",
            "  Duration: 00:01:02.09, start: 0.000000, bitrate: 1179 kb/s\n",
            "    Stream #0:0(und): Video: h264 (Main) (avc1 / 0x31637661), yuv420p(tv, bt709), 1280x720 [SAR 1:1 DAR 16:9], 1044 kb/s, 25 fps, 25 tbr, 12800 tbn, 50 tbc (default)\n",
            "    Metadata:\n",
            "      creation_time   : 2020-11-01T13:59:40.000000Z\n",
            "      handler_name    : ISO Media file produced by Google Inc. Created on: 11/01/2020.\n",
            "    Stream #0:1(eng): Audio: aac (LC) (mp4a / 0x6134706D), 44100 Hz, stereo, fltp, 127 kb/s (default)\n",
            "    Metadata:\n",
            "      creation_time   : 2020-11-01T13:59:40.000000Z\n",
            "      handler_name    : ISO Media file produced by Google Inc. Created on: 11/01/2020.\n",
            "Stream mapping:\n",
            "  Stream #0:0 -> #0:0 (copy)\n",
            "  Stream #0:1 -> #0:1 (aac (native) -> aac (native))\n",
            "Press [q] to stop, [?] for help\n",
            "Output #0, mp4, to 'video-clip.mp4':\n",
            "  Metadata:\n",
            "    major_brand     : mp42\n",
            "    minor_version   : 0\n",
            "    compatible_brands: isommp42\n",
            "    encoder         : Lavf57.83.100\n",
            "    Stream #0:0(und): Video: h264 (Main) (avc1 / 0x31637661), yuv420p(tv, bt709), 1280x720 [SAR 1:1 DAR 16:9], q=2-31, 1044 kb/s, 25 fps, 25 tbr, 12800 tbn, 12800 tbc (default)\n",
            "    Metadata:\n",
            "      creation_time   : 2020-11-01T13:59:40.000000Z\n",
            "      handler_name    : ISO Media file produced by Google Inc. Created on: 11/01/2020.\n",
            "    Stream #0:1(eng): Audio: aac (LC) (mp4a / 0x6134706D), 44100 Hz, stereo, fltp, 128 kb/s (default)\n",
            "    Metadata:\n",
            "      creation_time   : 2020-11-01T13:59:40.000000Z\n",
            "      handler_name    : ISO Media file produced by Google Inc. Created on: 11/01/2020.\n",
            "      encoder         : Lavc57.107.100 aac\n",
            "frame=  151 fps=0.0 q=-1.0 Lsize=     872kB time=00:00:06.01 bitrate=1187.6kbits/s speed=24.9x    \n",
            "video:772kB audio:94kB subtitle:0kB other streams:0kB global headers:0kB muxing overhead: 0.701689%\n",
            "\u001b[1;36m[aac @ 0x561aa6c0b700] \u001b[0mQavg: 1909.201\n"
          ],
          "name": "stdout"
        }
      ]
    },
    {
      "cell_type": "code",
      "metadata": {
        "id": "voLojv5rR6JN",
        "outputId": "0e06e1eb-74ec-4d51-ea0a-342fa5d9b60f",
        "colab": {
          "base_uri": "https://localhost:8080/"
        }
      },
      "source": [
        "# Run frame-by-frame inference demo on this video (takes 3-4 minutes) with the \"demo.py\" tool we provided in the repo.\n",
        "!git clone https://github.com/facebookresearch/detectron2\n",
        "!python detectron2/demo/demo.py --config-file detectron2/configs/COCO-PanopticSegmentation/panoptic_fpn_R_101_3x.yaml --video-input video-clip.mp4 --confidence-threshold 0.6 --output video-output.mkv \\\n",
        "  --opts MODEL.WEIGHTS detectron2://COCO-PanopticSegmentation/panoptic_fpn_R_101_3x/139514519/model_final_cafdb1.pkl"
      ],
      "execution_count": 3,
      "outputs": [
        {
          "output_type": "stream",
          "text": [
            "Cloning into 'detectron2'...\n",
            "remote: Enumerating objects: 7946, done.\u001b[K\n",
            "remote: Total 7946 (delta 0), reused 0 (delta 0), pack-reused 7946\u001b[K\n",
            "Receiving objects: 100% (7946/7946), 3.48 MiB | 26.01 MiB/s, done.\n",
            "Resolving deltas: 100% (5692/5692), done.\n",
            "Failed to load OpenCL runtime\n",
            "\u001b[32m[11/02 07:03:28 detectron2]: \u001b[0mArguments: Namespace(confidence_threshold=0.6, config_file='detectron2/configs/COCO-PanopticSegmentation/panoptic_fpn_R_101_3x.yaml', input=None, opts=['MODEL.WEIGHTS', 'detectron2://COCO-PanopticSegmentation/panoptic_fpn_R_101_3x/139514519/model_final_cafdb1.pkl'], output='video-output.mkv', video_input='video-clip.mp4', webcam=False)\n",
            "\u001b[32m[11/02 07:03:39 fvcore.common.checkpoint]: \u001b[0mLoading checkpoint from detectron2://COCO-PanopticSegmentation/panoptic_fpn_R_101_3x/139514519/model_final_cafdb1.pkl\n",
            "\u001b[32m[11/02 07:03:39 fvcore.common.download]: \u001b[0mDownloading from https://dl.fbaipublicfiles.com/detectron2/COCO-PanopticSegmentation/panoptic_fpn_R_101_3x/139514519/model_final_cafdb1.pkl ...\n",
            "model_final_cafdb1.pkl: 261MB [00:15, 16.9MB/s]               \n",
            "\u001b[32m[11/02 07:03:54 fvcore.common.download]: \u001b[0mSuccessfully downloaded /root/.torch/fvcore_cache/detectron2/COCO-PanopticSegmentation/panoptic_fpn_R_101_3x/139514519/model_final_cafdb1.pkl. 260581693 bytes.\n",
            "\u001b[32m[11/02 07:03:54 fvcore.common.file_io]: \u001b[0mURL https://dl.fbaipublicfiles.com/detectron2/COCO-PanopticSegmentation/panoptic_fpn_R_101_3x/139514519/model_final_cafdb1.pkl cached in /root/.torch/fvcore_cache/detectron2/COCO-PanopticSegmentation/panoptic_fpn_R_101_3x/139514519/model_final_cafdb1.pkl\n",
            "\u001b[32m[11/02 07:03:54 fvcore.common.checkpoint]: \u001b[0mReading a file from 'Detectron2 Model Zoo'\n",
            "  0% 0/151 [00:00<?, ?it/s]/usr/local/lib/python3.6/dist-packages/detectron2/layers/wrappers.py:226: UserWarning: This overload of nonzero is deprecated:\n",
            "\tnonzero()\n",
            "Consider using one of the following signatures instead:\n",
            "\tnonzero(*, bool as_tuple) (Triggered internally at  /pytorch/torch/csrc/utils/python_arg_parser.cpp:766.)\n",
            "  return x.nonzero().unbind(1)\n",
            "100% 151/151 [01:43<00:00,  1.46it/s]\n"
          ],
          "name": "stdout"
        }
      ]
    },
    {
      "cell_type": "code",
      "metadata": {
        "id": "ICeoLTANKOPl",
        "outputId": "fcf73e26-aeaf-487d-d745-0007beeefaf3",
        "colab": {
          "base_uri": "https://localhost:8080/",
          "height": 17
        }
      },
      "source": [
        "# Download the results\n",
        "from google.colab import files\n",
        "files.download('video-output.mkv')"
      ],
      "execution_count": 4,
      "outputs": [
        {
          "output_type": "display_data",
          "data": {
            "application/javascript": [
              "\n",
              "    async function download(id, filename, size) {\n",
              "      if (!google.colab.kernel.accessAllowed) {\n",
              "        return;\n",
              "      }\n",
              "      const div = document.createElement('div');\n",
              "      const label = document.createElement('label');\n",
              "      label.textContent = `Downloading \"${filename}\": `;\n",
              "      div.appendChild(label);\n",
              "      const progress = document.createElement('progress');\n",
              "      progress.max = size;\n",
              "      div.appendChild(progress);\n",
              "      document.body.appendChild(div);\n",
              "\n",
              "      const buffers = [];\n",
              "      let downloaded = 0;\n",
              "\n",
              "      const channel = await google.colab.kernel.comms.open(id);\n",
              "      // Send a message to notify the kernel that we're ready.\n",
              "      channel.send({})\n",
              "\n",
              "      for await (const message of channel.messages) {\n",
              "        // Send a message to notify the kernel that we're ready.\n",
              "        channel.send({})\n",
              "        if (message.buffers) {\n",
              "          for (const buffer of message.buffers) {\n",
              "            buffers.push(buffer);\n",
              "            downloaded += buffer.byteLength;\n",
              "            progress.value = downloaded;\n",
              "          }\n",
              "        }\n",
              "      }\n",
              "      const blob = new Blob(buffers, {type: 'application/binary'});\n",
              "      const a = document.createElement('a');\n",
              "      a.href = window.URL.createObjectURL(blob);\n",
              "      a.download = filename;\n",
              "      div.appendChild(a);\n",
              "      a.click();\n",
              "      div.remove();\n",
              "    }\n",
              "  "
            ],
            "text/plain": [
              "<IPython.core.display.Javascript object>"
            ]
          },
          "metadata": {
            "tags": []
          }
        },
        {
          "output_type": "display_data",
          "data": {
            "application/javascript": [
              "download(\"download_5bfc2cf8-ff63-4884-adb8-3247fa0e574d\", \"video-output.mkv\", 2473947)"
            ],
            "text/plain": [
              "<IPython.core.display.Javascript object>"
            ]
          },
          "metadata": {
            "tags": []
          }
        }
      ]
    }
  ]
}